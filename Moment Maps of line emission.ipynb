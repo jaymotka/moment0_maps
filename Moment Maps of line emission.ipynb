{
 "cells": [
  {
   "cell_type": "markdown",
   "metadata": {},
   "source": [
    "# Moment maps of line emission\n",
    "This is a notebook to project 3D line emission cubes from SIGAME to moment0 maps. \n",
    "\n",
    "Author: Jay Motka\n",
    "Supervisor: Karen P. Olsen\n",
    "\n",
    "---"
   ]
  },
  {
   "cell_type": "markdown",
   "metadata": {},
   "source": [
    "### Moment0 map\n",
    "You can read about moment maps in astronomy here: \n",
    "\n",
    "https://www.cfa.harvard.edu/rtdc/CO/MomentMasking/"
   ]
  },
  {
   "cell_type": "code",
   "execution_count": 1,
   "metadata": {},
   "outputs": [],
   "source": [
    "### Import the modules we will need\n",
    "import math\n",
    "import pandas as pd\n",
    "import numpy as np\n",
    "import matplotlib.pyplot as plt\n",
    "import matplotlib as mpl\n",
    "import matplotlib.cm as cm\n",
    "from scipy.spatial import cKDTree\n",
    "import time\n",
    "fontsize = 15\n",
    "mpl.rcParams['ytick.labelsize'] = fontsize # increase label size in plots\n",
    "mpl.rcParams['xtick.labelsize'] = fontsize # increase label size in plots"
   ]
  },
  {
   "cell_type": "code",
   "execution_count": 2,
   "metadata": {},
   "outputs": [],
   "source": [
    "### First we import the 3D datacube with line emission per cell:\n",
    "datacube      =    pd.read_pickle('z0.00_fG106.cell_data')"
   ]
  },
  {
   "cell_type": "code",
   "execution_count": 3,
   "metadata": {
    "scrolled": true
   },
   "outputs": [
    {
     "data": {
      "text/html": [
       "<div>\n",
       "<style scoped>\n",
       "    .dataframe tbody tr th:only-of-type {\n",
       "        vertical-align: middle;\n",
       "    }\n",
       "\n",
       "    .dataframe tbody tr th {\n",
       "        vertical-align: top;\n",
       "    }\n",
       "\n",
       "    .dataframe thead th {\n",
       "        text-align: right;\n",
       "    }\n",
       "</style>\n",
       "<table border=\"1\" class=\"dataframe\">\n",
       "  <thead>\n",
       "    <tr style=\"text-align: right;\">\n",
       "      <th></th>\n",
       "      <th>x</th>\n",
       "      <th>y</th>\n",
       "      <th>z</th>\n",
       "      <th>n_dust</th>\n",
       "      <th>cell_size</th>\n",
       "      <th>cell_volume</th>\n",
       "      <th>rho</th>\n",
       "      <th>m</th>\n",
       "      <th>mH</th>\n",
       "      <th>nH</th>\n",
       "      <th>...</th>\n",
       "      <th>L_[CI]370</th>\n",
       "      <th>L_[OI]145</th>\n",
       "      <th>L_[OI]63</th>\n",
       "      <th>L_[OIII]88</th>\n",
       "      <th>L_[NII]122</th>\n",
       "      <th>L_[NII]205</th>\n",
       "      <th>L_CO(3-2)</th>\n",
       "      <th>L_CO(2-1)</th>\n",
       "      <th>L_CO(1-0)</th>\n",
       "      <th>NH</th>\n",
       "    </tr>\n",
       "  </thead>\n",
       "  <tbody>\n",
       "    <tr>\n",
       "      <td>0</td>\n",
       "      <td>-58.651875</td>\n",
       "      <td>-58.651875</td>\n",
       "      <td>-58.651875</td>\n",
       "      <td>4.918675e-12</td>\n",
       "      <td>7.82025</td>\n",
       "      <td>4.782576e+11</td>\n",
       "      <td>0.011191</td>\n",
       "      <td>5.434260</td>\n",
       "      <td>4.075695</td>\n",
       "      <td>3.394788e-10</td>\n",
       "      <td>...</td>\n",
       "      <td>8.472793e-12</td>\n",
       "      <td>0.000001</td>\n",
       "      <td>0.000011</td>\n",
       "      <td>0.000003</td>\n",
       "      <td>8.748788e-07</td>\n",
       "      <td>0.000004</td>\n",
       "      <td>9.057820e-75</td>\n",
       "      <td>3.637962e-75</td>\n",
       "      <td>1.819548e-76</td>\n",
       "      <td>8.683966e+20</td>\n",
       "    </tr>\n",
       "    <tr>\n",
       "      <td>1</td>\n",
       "      <td>-50.831625</td>\n",
       "      <td>-58.651875</td>\n",
       "      <td>-58.651875</td>\n",
       "      <td>2.951480e-11</td>\n",
       "      <td>7.82025</td>\n",
       "      <td>4.782576e+11</td>\n",
       "      <td>0.291045</td>\n",
       "      <td>141.334394</td>\n",
       "      <td>106.000796</td>\n",
       "      <td>8.829175e-09</td>\n",
       "      <td>...</td>\n",
       "      <td>2.513781e-10</td>\n",
       "      <td>0.000030</td>\n",
       "      <td>0.000315</td>\n",
       "      <td>0.000046</td>\n",
       "      <td>2.164689e-05</td>\n",
       "      <td>0.000096</td>\n",
       "      <td>9.072941e-71</td>\n",
       "      <td>4.774382e-71</td>\n",
       "      <td>2.866297e-72</td>\n",
       "      <td>7.923468e+20</td>\n",
       "    </tr>\n",
       "    <tr>\n",
       "      <td>2</td>\n",
       "      <td>-58.651875</td>\n",
       "      <td>-50.831625</td>\n",
       "      <td>-58.651875</td>\n",
       "      <td>1.010612e-10</td>\n",
       "      <td>7.82025</td>\n",
       "      <td>4.782576e+11</td>\n",
       "      <td>1.925991</td>\n",
       "      <td>935.282244</td>\n",
       "      <td>701.461683</td>\n",
       "      <td>5.842719e-08</td>\n",
       "      <td>...</td>\n",
       "      <td>1.307849e-09</td>\n",
       "      <td>0.000150</td>\n",
       "      <td>0.001561</td>\n",
       "      <td>0.000431</td>\n",
       "      <td>1.298560e-04</td>\n",
       "      <td>0.000597</td>\n",
       "      <td>1.291200e-73</td>\n",
       "      <td>5.105813e-74</td>\n",
       "      <td>2.546406e-75</td>\n",
       "      <td>8.654706e+20</td>\n",
       "    </tr>\n",
       "    <tr>\n",
       "      <td>3</td>\n",
       "      <td>-50.831625</td>\n",
       "      <td>-50.831625</td>\n",
       "      <td>-58.651875</td>\n",
       "      <td>2.541077e-10</td>\n",
       "      <td>7.82025</td>\n",
       "      <td>4.782576e+11</td>\n",
       "      <td>6.913218</td>\n",
       "      <td>3357.134249</td>\n",
       "      <td>2517.850687</td>\n",
       "      <td>2.097206e-07</td>\n",
       "      <td>...</td>\n",
       "      <td>5.178948e-09</td>\n",
       "      <td>0.000582</td>\n",
       "      <td>0.006025</td>\n",
       "      <td>0.001062</td>\n",
       "      <td>4.426472e-04</td>\n",
       "      <td>0.001953</td>\n",
       "      <td>5.067243e-71</td>\n",
       "      <td>2.509378e-71</td>\n",
       "      <td>1.457220e-72</td>\n",
       "      <td>8.000914e+20</td>\n",
       "    </tr>\n",
       "    <tr>\n",
       "      <td>4</td>\n",
       "      <td>-58.651875</td>\n",
       "      <td>-58.651875</td>\n",
       "      <td>-50.831625</td>\n",
       "      <td>1.203988e-11</td>\n",
       "      <td>7.82025</td>\n",
       "      <td>4.782576e+11</td>\n",
       "      <td>0.061411</td>\n",
       "      <td>29.821967</td>\n",
       "      <td>22.366475</td>\n",
       "      <td>1.862982e-09</td>\n",
       "      <td>...</td>\n",
       "      <td>3.896506e-11</td>\n",
       "      <td>0.000004</td>\n",
       "      <td>0.000046</td>\n",
       "      <td>0.000015</td>\n",
       "      <td>3.983468e-06</td>\n",
       "      <td>0.000018</td>\n",
       "      <td>4.427859e-76</td>\n",
       "      <td>1.637064e-76</td>\n",
       "      <td>7.821515e-78</td>\n",
       "      <td>8.825912e+20</td>\n",
       "    </tr>\n",
       "  </tbody>\n",
       "</table>\n",
       "<p>5 rows × 36 columns</p>\n",
       "</div>"
      ],
      "text/plain": [
       "           x          y          z        n_dust  cell_size   cell_volume  \\\n",
       "0 -58.651875 -58.651875 -58.651875  4.918675e-12    7.82025  4.782576e+11   \n",
       "1 -50.831625 -58.651875 -58.651875  2.951480e-11    7.82025  4.782576e+11   \n",
       "2 -58.651875 -50.831625 -58.651875  1.010612e-10    7.82025  4.782576e+11   \n",
       "3 -50.831625 -50.831625 -58.651875  2.541077e-10    7.82025  4.782576e+11   \n",
       "4 -58.651875 -58.651875 -50.831625  1.203988e-11    7.82025  4.782576e+11   \n",
       "\n",
       "        rho            m           mH            nH  ...     L_[CI]370  \\\n",
       "0  0.011191     5.434260     4.075695  3.394788e-10  ...  8.472793e-12   \n",
       "1  0.291045   141.334394   106.000796  8.829175e-09  ...  2.513781e-10   \n",
       "2  1.925991   935.282244   701.461683  5.842719e-08  ...  1.307849e-09   \n",
       "3  6.913218  3357.134249  2517.850687  2.097206e-07  ...  5.178948e-09   \n",
       "4  0.061411    29.821967    22.366475  1.862982e-09  ...  3.896506e-11   \n",
       "\n",
       "   L_[OI]145  L_[OI]63  L_[OIII]88    L_[NII]122  L_[NII]205     L_CO(3-2)  \\\n",
       "0   0.000001  0.000011    0.000003  8.748788e-07    0.000004  9.057820e-75   \n",
       "1   0.000030  0.000315    0.000046  2.164689e-05    0.000096  9.072941e-71   \n",
       "2   0.000150  0.001561    0.000431  1.298560e-04    0.000597  1.291200e-73   \n",
       "3   0.000582  0.006025    0.001062  4.426472e-04    0.001953  5.067243e-71   \n",
       "4   0.000004  0.000046    0.000015  3.983468e-06    0.000018  4.427859e-76   \n",
       "\n",
       "      L_CO(2-1)     L_CO(1-0)            NH  \n",
       "0  3.637962e-75  1.819548e-76  8.683966e+20  \n",
       "1  4.774382e-71  2.866297e-72  7.923468e+20  \n",
       "2  5.105813e-74  2.546406e-75  8.654706e+20  \n",
       "3  2.509378e-71  1.457220e-72  8.000914e+20  \n",
       "4  1.637064e-76  7.821515e-78  8.825912e+20  \n",
       "\n",
       "[5 rows x 36 columns]"
      ]
     },
     "execution_count": 3,
     "metadata": {},
     "output_type": "execute_result"
    }
   ],
   "source": [
    "### Take a look at the first 5 rows in of the datacube:\n",
    "datacube.head()"
   ]
  },
  {
   "cell_type": "code",
   "execution_count": 4,
   "metadata": {},
   "outputs": [
    {
     "data": {
      "text/plain": [
       "Index(['x', 'y', 'z', 'n_dust', 'cell_size', 'cell_volume', 'rho', 'm', 'mH',\n",
       "       'nH', 'F_NIR_W_m2', 'F_FUV_W_m2', 'F_UV_W_m2', 'UV_to_FUV', 'R_NIR_FUV',\n",
       "       'F_FUV_Habing', 'E_FUV_ergs_cm3', 'G0', 'SFR_density', 'Z', 'Mach',\n",
       "       'cell_size_lookup', 'mf_1e3', 'mf_1e1', 'L_[CII]158', 'L_[CI]610',\n",
       "       'L_[CI]370', 'L_[OI]145', 'L_[OI]63', 'L_[OIII]88', 'L_[NII]122',\n",
       "       'L_[NII]205', 'L_CO(3-2)', 'L_CO(2-1)', 'L_CO(1-0)', 'NH'],\n",
       "      dtype='object')"
      ]
     },
     "execution_count": 4,
     "metadata": {},
     "output_type": "execute_result"
    }
   ],
   "source": [
    "datacube.keys()"
   ]
  },
  {
   "cell_type": "code",
   "execution_count": 5,
   "metadata": {},
   "outputs": [
    {
     "name": "stdout",
     "output_type": "stream",
     "text": [
      "656888 cells found\n"
     ]
    }
   ],
   "source": [
    "### Count number of cells\n",
    "N_models = len(datacube)\n",
    "print('%i cells found' % N_models)"
   ]
  },
  {
   "cell_type": "code",
   "execution_count": 6,
   "metadata": {},
   "outputs": [],
   "source": [
    "Z = datacube['Z']\n",
    "Z[np.isnan(Z)] = 0\n",
    "datacube['Z'] = Z"
   ]
  },
  {
   "cell_type": "code",
   "execution_count": 7,
   "metadata": {},
   "outputs": [],
   "source": [
    "properties = np.column_stack((datacube.m, datacube.m * datacube.Z, datacube['L_[CII]158']/6, datacube['L_[CI]610']/6, datacube['L_[CI]370']/6, datacube['L_[OI]145']/6, datacube['L_[OI]63']/6, datacube['L_[OIII]88']/6, datacube['L_[NII]122']/6, datacube['L_[NII]205']/6, datacube['L_CO(3-2)']/6, datacube['L_CO(2-1)']/6, datacube['L_CO(1-0)']/6))"
   ]
  },
  {
   "cell_type": "code",
   "execution_count": 8,
   "metadata": {},
   "outputs": [],
   "source": [
    "### data:\n",
    "cellsize = datacube.cell_size  #kpc               #(Cell-sizes in kpc)                         \n",
    "X = datacube.x                                    #(x-coordinates)\n",
    "Y = datacube.y                                    #(y-coordinates)\n",
    "Z = datacube.z                                    #(z-coordinates)"
   ]
  },
  {
   "cell_type": "code",
   "execution_count": 9,
   "metadata": {},
   "outputs": [
    {
     "data": {
      "text/plain": [
       "(-62.073234379999995,\n",
       " 61.58446875,\n",
       " -62.073234379999995,\n",
       " 62.073234379999995,\n",
       " -61.58446875,\n",
       " 58.651875)"
      ]
     },
     "execution_count": 9,
     "metadata": {},
     "output_type": "execute_result"
    }
   ],
   "source": [
    "### minimum and maximum coordinates:\n",
    "xmin, xmax = min(X), max(X)\n",
    "ymin, ymax = min(Y), max(Y)\n",
    "zmin, zmax = min(Z), max(Z)\n",
    "xminindex, xmaxindex = np.where(X == xmin)[0][0], np.where(X == xmax)[0][0]\n",
    "yminindex, ymaxindex = np.where(Y == ymin)[0][0], np.where(Y == ymax)[0][0]\n",
    "zminindex, zmaxindex = np.where(Z == zmin)[0][0], np.where(Z == zmax)[0][0]\n",
    "xmin, xmax, ymin, ymax, zmin, zmax"
   ]
  },
  {
   "cell_type": "code",
   "execution_count": 10,
   "metadata": {},
   "outputs": [],
   "source": [
    "### luminosity_density in cell:\n",
    "cellarea = cellsize * cellsize                        #kpc^2\n",
    "area = np.column_stack((cellarea, cellarea, cellarea, cellarea, cellarea, cellarea, cellarea, cellarea, cellarea, cellarea, cellarea, cellarea, cellarea))\n",
    "celldensity =  properties / area                      #units / kpc^2"
   ]
  },
  {
   "cell_type": "code",
   "execution_count": 11,
   "metadata": {},
   "outputs": [
    {
     "name": "stdout",
     "output_type": "stream",
     "text": [
      "The plane that you want to project to (xy or yz or zx): xy\n"
     ]
    }
   ],
   "source": [
    "plane = input('The plane that you want to project to (xy or yz or zx): ')"
   ]
  },
  {
   "cell_type": "code",
   "execution_count": 12,
   "metadata": {},
   "outputs": [],
   "source": [
    "if plane == 'xy':\n",
    "    axis1, min1, max1, minindex1, maxindex1 = X, xmin, xmax, xminindex, xmaxindex\n",
    "    axis2, min2, max2, minindex2, maxindex2 = Y, ymin, ymax, yminindex, ymaxindex\n",
    "\n",
    "elif plane == 'yz':\n",
    "    axis1, min1, max1, minindex1, maxindex1 = Y, ymin, ymax, yminindex, ymaxindex\n",
    "    axis2, min2, max2, minindex2, maxindex2 = Z, zmin, zmax, zminindex, zmaxindex\n",
    "    \n",
    "elif plane == 'zx':\n",
    "    axis1, min1, max1, minindex1, maxindex1 = Z, zmin, zmax, zminindex, zmaxindex\n",
    "    axis2, min2, max2, minindex2, maxindex2 = X, xmin, xmax, xminindex, xmaxindex"
   ]
  },
  {
   "cell_type": "code",
   "execution_count": 13,
   "metadata": {},
   "outputs": [],
   "source": [
    "### cell setups: \n",
    "cellstart1 = axis1 - (cellsize / 2)\n",
    "cellstart2 = axis2 - (cellsize / 2)\n",
    "cellend1 = cellstart1 + cellsize\n",
    "cellend2 = cellstart2 + cellsize\n",
    "\n",
    "### Arrays containing index and x,y,z-coordinate details of each cell:\n",
    "cell1 = np.column_stack([datacube.index, cellstart1, cellend1])\n",
    "cell2 = np.column_stack([datacube.index, cellstart2, cellend2]) "
   ]
  },
  {
   "cell_type": "code",
   "execution_count": 14,
   "metadata": {},
   "outputs": [],
   "source": [
    "### size of the pixel:\n",
    "PIXELSIZE = 0.5 # kpc in 1D"
   ]
  },
  {
   "cell_type": "markdown",
   "metadata": {},
   "source": [
    "### KD-Tree:\n",
    "\n",
    "The tool used is scipy's KD-Tree function which finds all k nearest neighbors to each point that you are interested in:\n",
    "\n",
    "https://docs.scipy.org/doc/scipy/reference/generated/scipy.spatial.cKDTree.html"
   ]
  },
  {
   "cell_type": "code",
   "execution_count": 15,
   "metadata": {},
   "outputs": [],
   "source": [
    "tree = cKDTree(np.c_[axis1.ravel(), axis2.ravel()])"
   ]
  },
  {
   "cell_type": "markdown",
   "metadata": {},
   "source": [
    "R is the maximum distance that any centre of cell can be from the centre of pixel. (0.1 is a correction to make sure no cells are left out.)"
   ]
  },
  {
   "cell_type": "code",
   "execution_count": 16,
   "metadata": {},
   "outputs": [],
   "source": [
    "R = (max(cellsize)/(2**0.5)) + (PIXELSIZE/(2**0.5)) + 0.1"
   ]
  },
  {
   "cell_type": "markdown",
   "metadata": {},
   "source": [
    "### Algorithm:\n",
    "\n",
    "Note: Here we are completely ignoring the third coordinates (line of sight). By doing so, we reduce the datacube to a 2D-sheet where flattened 2D cells are stacked over one another. By doing so, we avoid the complexity of iterating over the third direction.  \n",
    "\n",
    "1. Apply KD-Tree to centre-coordinates of the pixel to find any cells within the distance R.\n",
    "2. Loop through these nearest neighbour cells of the given pixel.\n",
    "3. In the loop, to find overlapping cells, we use the if statement stated in the code below.\n",
    "   If statement: in 1 direction (let's say x), min from the ending edge of the squares is subtracted from the max of the\n",
    "   startinging edge of the squares. If this substraction is lesser than 0 then the cell and pixel is overlapping in that            direction.\n",
    "4. Inside the if statement, now that the overlapping is assured, we find the edge lengths of the overlapping rectangle.\n",
    "   This is being done by subtracting coordinates of max from the starting edge of the squares from the min of the ending\n",
    "   edge of the squares. \n",
    "5. Now we find the area of the overlapping rectangle and multiply it with the surface density (luminosity or mass) of the cell.\n",
    "6. By repeating the loop through every cell, we add up all the luminosity due to overlap in that pixel.\n",
    "\n",
    "Note: Theoretically, we are assuming the ISM to be transparent for this moment0 maps."
   ]
  },
  {
   "cell_type": "code",
   "execution_count": 17,
   "metadata": {},
   "outputs": [],
   "source": [
    "def line_luminosity(tree, cell1, cell2, pixel, celldensity, R):\n",
    "    '''\n",
    "    This function returns the total luminosity of the pixel using the algorithm shown above.\n",
    "    '''\n",
    "    \n",
    "    # pixel-coordinates:\n",
    "    pixelstart1 = pixel[0]\n",
    "    pixelcentre1 = pixel[1]\n",
    "    pixelend1 = pixel[2]\n",
    "    pixelstart2 = pixel[3]\n",
    "    pixelcentre2 = pixel[4]\n",
    "    pixelend2 = pixel[5]\n",
    "    \n",
    "    # 1. Query_ball_point method of KDTree to find cells within distance R:\n",
    "    ii = tree.query_ball_point([pixelcentre1, pixelcentre2], r=R)\n",
    "    \n",
    "    # appending coordinate values of the nearest cells gained by KD-Tree:\n",
    "    ax1 = []\n",
    "    ax2 = []\n",
    "    for index in ii:\n",
    "        ax1.append(cell1[index])\n",
    "        ax2.append(cell2[index])\n",
    "    \n",
    "    # 2. For loop to go over each cell:\n",
    "    lineluminosity = 0\n",
    "    for i in range(len(ax1)):\n",
    "        \n",
    "        # 3. if statement to find whether the cell overlaps the pixel or not:\n",
    "        if (max(pixelstart1, ax1[i][1]) - min(pixelend1, ax1[i][2]) < 0) and (max(pixelstart2, ax2[i][1]) - min(pixelend2, ax2[i][2]) < 0):\n",
    "    \n",
    "            # 4. Finding edge lengths of overlapping rectangle:\n",
    "            edge1 = min(pixelend1, ax1[i][2])-max(pixelstart1,ax1[i][1])\n",
    "            edge2 = min(pixelend2, ax2[i][2])-max(pixelstart2,ax2[i][1])\n",
    "            \n",
    "            # 5. Finding overlapping crosssection area and luminosity due to that overlpping cell:\n",
    "            crosssection = edge1 * edge2\n",
    "            pixelluminosity = crosssection * celldensity[int(ax1[i][0])]\n",
    "            \n",
    "            # 6. Adding up the luminosity due to each cell:\n",
    "            lineluminosity += pixelluminosity\n",
    "\n",
    "    return lineluminosity"
   ]
  },
  {
   "cell_type": "markdown",
   "metadata": {},
   "source": [
    "Now we run two while loops inside each other to sum up luminosity of every pixel."
   ]
  },
  {
   "cell_type": "code",
   "execution_count": 18,
   "metadata": {},
   "outputs": [],
   "source": [
    "# While loop to go through axis2-direction:\n",
    "index = 0\n",
    "index2 = 0\n",
    "momentmapdata = []\n",
    "pixelstart2 = min2 - (cellsize[minindex2] / 2)\n",
    "while pixelstart2 <= max2 + (cellsize[maxindex2] / 2): \n",
    "    pixelend2 = pixelstart2 + PIXELSIZE\n",
    "    \n",
    "    # While loop to go through axis1-direction:\n",
    "    index1 = 0\n",
    "    pixelstart1 = min1 - (cellsize[minindex1] / 2)\n",
    "    while pixelstart1 <= max1 + (cellsize[maxindex1] / 2):\n",
    "        pixelend1 = pixelstart1 + PIXELSIZE\n",
    "\n",
    "        # central coordinates of each pixel-lines:\n",
    "        pixelcentre1 = pixelstart1 + (PIXELSIZE/2)\n",
    "        pixelcentre2 = pixelstart2 + (PIXELSIZE/2)\n",
    "        \n",
    "        # Pixel coordinates:\n",
    "        pixel = [pixelstart1, pixelcentre1, pixelend1, pixelstart2, pixelcentre2, pixelend2]\n",
    "        \n",
    "        # Calling line_luminosity function for the particular pixel: \n",
    "        lineluminosity = line_luminosity(tree, cell1, cell2, pixel, celldensity, R)\n",
    "        \n",
    "        if np.sum(lineluminosity) > 0:\n",
    "                pass\n",
    "        else:\n",
    "            lineluminosity = np.zeros(len(properties[0]))\n",
    "\n",
    "        # Appending data of each pixelline for 2D projection:\n",
    "        momentmapdata.append([int(index), pixelcentre1, pixelcentre2, np.array(lineluminosity)])\n",
    "        \n",
    "        index += 1\n",
    "        index1 += 1 \n",
    "        pixelstart1 += PIXELSIZE\n",
    "    \n",
    "    index2 += 1\n",
    "    pixelstart2 += PIXELSIZE"
   ]
  },
  {
   "cell_type": "markdown",
   "metadata": {},
   "source": [
    "### Momentmap Data:\n",
    "\n",
    "Fisrt column of the array is index. Second and third colums are coordinates in projected plane, respectively. The last column is lists of the added up mass and luminosities. "
   ]
  },
  {
   "cell_type": "code",
   "execution_count": 19,
   "metadata": {},
   "outputs": [
    {
     "name": "stderr",
     "output_type": "stream",
     "text": [
      "C:\\Users\\jaymo\\Anaconda3\\lib\\site-packages\\ipykernel_launcher.py:2: VisibleDeprecationWarning: Creating an ndarray from ragged nested sequences (which is a list-or-tuple of lists-or-tuples-or ndarrays with different lengths or shapes) is deprecated. If you meant to do this, you must specify 'dtype=object' when creating the ndarray\n",
      "  \n"
     ]
    },
    {
     "data": {
      "text/plain": [
       "array([[0, -62.31200000499132, -62.31200000499132,\n",
       "        array([7.30624468e+00, 4.05107919e+00, 2.37749673e-07, 2.70957302e-14,\n",
       "       7.86785355e-14, 8.50065085e-09, 8.92742856e-08, 7.80356462e-08,\n",
       "       1.06097040e-08, 4.93046619e-08, 6.47290014e-78, 2.59013175e-78,\n",
       "       1.29297363e-79])],\n",
       "       [1, -61.81200000499132, -62.31200000499132,\n",
       "        array([7.30624475e+00, 4.05107923e+00, 2.37749675e-07, 2.70957305e-14,\n",
       "       7.86785363e-14, 8.50065094e-09, 8.92742865e-08, 7.80356470e-08,\n",
       "       1.06097041e-08, 4.93046624e-08, 6.47290020e-78, 2.59013177e-78,\n",
       "       1.29297364e-79])],\n",
       "       [2, -61.31200000499132, -62.31200000499132,\n",
       "        array([7.30624475e+00, 4.05107923e+00, 2.37749675e-07, 2.70957305e-14,\n",
       "       7.86785363e-14, 8.50065094e-09, 8.92742865e-08, 7.80356470e-08,\n",
       "       1.06097041e-08, 4.93046624e-08, 6.47290020e-78, 2.59013177e-78,\n",
       "       1.29297364e-79])],\n",
       "       ...,\n",
       "       [62998, 61.68799999500868, 62.68799999500868,\n",
       "        array([1.79678214e+00, 2.03538512e+00, 3.96784809e-06, 1.15803012e-12,\n",
       "       1.57973669e-12, 3.79647657e-07, 3.81971513e-06, 1.66815037e-08,\n",
       "       1.10865950e-07, 4.08414306e-07, 4.69132165e-53, 1.16523459e-52,\n",
       "       1.81760377e-53])],\n",
       "       [62999, 62.18799999500868, 62.68799999500868,\n",
       "        array([1.79678214e+00, 2.03538512e+00, 3.96784809e-06, 1.15803012e-12,\n",
       "       1.57973669e-12, 3.79647657e-07, 3.81971513e-06, 1.66815037e-08,\n",
       "       1.10865950e-07, 4.08414306e-07, 4.69132165e-53, 1.16523459e-52,\n",
       "       1.81760377e-53])],\n",
       "       [63000, 62.68799999500868, 62.68799999500868,\n",
       "        array([4.45601989e-01, 5.04775530e-01, 9.84026366e-07, 2.87191482e-13,\n",
       "       3.91774716e-13, 9.41526229e-08, 9.47289392e-07, 4.13701308e-09,\n",
       "       2.74947566e-08, 1.01286752e-07, 1.16344782e-53, 2.88978189e-53,\n",
       "       4.50765755e-54])]], dtype=object)"
      ]
     },
     "execution_count": 19,
     "metadata": {},
     "output_type": "execute_result"
    }
   ],
   "source": [
    "#Data for momentmap:\n",
    "momentmap = np.array(momentmapdata)\n",
    "momentmap"
   ]
  },
  {
   "cell_type": "code",
   "execution_count": 20,
   "metadata": {},
   "outputs": [
    {
     "data": {
      "text/plain": [
       "(63001, 4)"
      ]
     },
     "execution_count": 20,
     "metadata": {},
     "output_type": "execute_result"
    }
   ],
   "source": [
    "momentmap.shape"
   ]
  },
  {
   "cell_type": "code",
   "execution_count": 21,
   "metadata": {},
   "outputs": [
    {
     "name": "stdout",
     "output_type": "stream",
     "text": [
      "mass: 0 | weighted metallic mass: 1 | L_[CII]158: 2 | L_[CI]610: 3 | L_[CI]370: 4 | L_[OI]145: 5 | L_[OI]63: 6 \n",
      "L_[OIII]88: 7 | L_[NII]122: 8 | L_[NII]205: 9 | L_CO(3-2): 10 | L_CO(2-1): 11 | L_CO(1-0): 12\n"
     ]
    }
   ],
   "source": [
    "print('mass: 0 | weighted metallic mass: 1 | L_[CII]158: 2 | L_[CI]610: 3 | L_[CI]370: 4 | L_[OI]145: 5 | L_[OI]63: 6 ')\n",
    "print('L_[OIII]88: 7 | L_[NII]122: 8 | L_[NII]205: 9 | L_CO(3-2): 10 | L_CO(2-1): 11 | L_CO(1-0): 12')"
   ]
  },
  {
   "cell_type": "code",
   "execution_count": 22,
   "metadata": {},
   "outputs": [
    {
     "name": "stdout",
     "output_type": "stream",
     "text": [
      "Input the number related to property as shown above(0 for mass or 2 for CII): 2\n"
     ]
    }
   ],
   "source": [
    "num = int(input('Input the number related to property as shown above(0 for mass or 2 for CII): '))"
   ]
  },
  {
   "cell_type": "code",
   "execution_count": 23,
   "metadata": {},
   "outputs": [],
   "source": [
    "lumus = np.array(momentmap[:,3])\n",
    "lum = []\n",
    "mass = []\n",
    "metal = []\n",
    "for prop in lumus:\n",
    "    if num == 1:\n",
    "        lum.append(prop[num]/prop[0])\n",
    "    else:\n",
    "        lum.append(prop[num])\n",
    "    mass.append(prop[0])\n",
    "    metal.append(prop[1])\n",
    "lum = np.array(lum)\n",
    "mass = np.array(mass)\n",
    "metal = np.array(metal)\n",
    "if num != 1:\n",
    "    lum = lum / (PIXELSIZE**2)"
   ]
  },
  {
   "cell_type": "code",
   "execution_count": 24,
   "metadata": {},
   "outputs": [],
   "source": [
    "dictionary = {0:'mass', 1:'Weighted metallic mass', 2:'L_[CII]158', 3:'L_[CI]610' , 4:'L_[CI]370' , 5:'L_[OI]145' ,\n",
    "              6:'L_[OI]63' , 7:'L_[OIII]88' , 8:'L_[NII]122' , 9:'L_[NII]205' , 10:'L_CO(3-2)' , 11:'L_CO(2-1)' ,\n",
    "              12:'L_CO(1-0)'}\n",
    "prop = dictionary[num]"
   ]
  },
  {
   "cell_type": "code",
   "execution_count": 25,
   "metadata": {},
   "outputs": [
    {
     "name": "stdout",
     "output_type": "stream",
     "text": [
      "Do you want it in Jy*km/s units? (yes/no): yes\n"
     ]
    }
   ],
   "source": [
    "if num != 0 and num != 1:\n",
    "    units = input('Do you want it in Jy*km/s units? (yes/no): ')\n",
    "else:\n",
    "    units = 'no'"
   ]
  },
  {
   "cell_type": "code",
   "execution_count": 26,
   "metadata": {},
   "outputs": [],
   "source": [
    "z = 0          #redshift\n",
    "D = 10         #Mpc "
   ]
  },
  {
   "cell_type": "code",
   "execution_count": 27,
   "metadata": {},
   "outputs": [],
   "source": [
    "freq = {'[CII]158':1900.5369,\\\n",
    "        '[CI]370':809.34197,\\\n",
    "        '[CI]610':492.160651,\\\n",
    "        '[OI]63':4744.774906758,\\\n",
    "        '[OI]145':2060.06909,\\\n",
    "        '[OIII]88':3393.006224818,\\\n",
    "        '[NII]122':2459.370214752,\\\n",
    "        '[NII]205':1461.132118324,\\\n",
    "        'CO(1-0)':115.2712018,\\\n",
    "        'CO(2-1)':230.5380000,\\\n",
    "        'CO(3-2)':345.7959899,\\\n",
    "        'CO(4-3)':461.0407682,\\\n",
    "        'CO(5-4)':576.2679305}"
   ]
  },
  {
   "cell_type": "code",
   "execution_count": 28,
   "metadata": {},
   "outputs": [],
   "source": [
    "if units == 'yes':\n",
    "    key = prop[2:]\n",
    "    v = freq[key]\n",
    "    lum = lum*(1+z) / (1.04e-3 * D**2 * v)\n",
    "    "
   ]
  },
  {
   "cell_type": "markdown",
   "metadata": {},
   "source": [
    "### Ploting:"
   ]
  },
  {
   "cell_type": "code",
   "execution_count": 29,
   "metadata": {},
   "outputs": [
    {
     "data": {
      "image/png": "[encoded data removed]",
      "text/plain": [
       "<Figure size 720x576 with 2 Axes>"
      ]
     },
     "metadata": {
      "needs_background": "light"
     },
     "output_type": "display_data"
    }
   ],
   "source": [
    "#Plotting: \n",
    "\n",
    "ax1,ax2 = momentmap[:, 1], momentmap[:, 2]\n",
    "\n",
    "nrows, ncols = index1, index2\n",
    "grid = lum.reshape((nrows, ncols))\n",
    "grid = np.flip(grid, 0) #grid = np.transpose(grid)\n",
    "normal = mpl.colors.Normalize(vmin = -max(lum), vmax = max(lum))\n",
    "\n",
    "if num != 1:\n",
    "    fig,ax = plt.subplots(figsize=(10,8))\n",
    "\n",
    "    cs = ax.imshow(grid, extent=(ax1.min(), ax1.max(), ax2.max(), ax2.min()),\n",
    "               interpolation='nearest', cmap=cm.viridis)\n",
    "    plt.title(prop + ' density')\n",
    "    plt.xlabel(plane[0].upper()+' (kpc)')\n",
    "    plt.ylabel(plane[1].upper()+' (kpc)')\n",
    "    \n",
    "    if units == 'yes':\n",
    "        labels = '$\\log$ ( Jy * km/s / $kpc^2$ )'\n",
    "    else:     \n",
    "        if num == 0:\n",
    "            labels = '$\\log$ ( $M_\\odot$ / $kpc^2$ )'\n",
    "        else:\n",
    "            labels = '$\\log$ ( $L_\\odot$ / $kpc^2$ )'\n",
    "    formatter = mpl.ticker.LogFormatterExponent(10, labelOnlyBase=False, minor_thresholds=(100,20))\n",
    "    fig.colorbar(cs, norm = normal, cmap=cm.viridis, label=labels, format=formatter)\n",
    "\n",
    "    plt.savefig(prop +'.png',dpi=500)\n",
    "    plt.show()\n",
    "    \n",
    "else:\n",
    "    fig,ax = plt.subplots(figsize=(10,8))\n",
    "\n",
    "    cs = ax.imshow(grid, extent=(ax1.min(), ax1.max(), ax2.max(), ax2.min()),\n",
    "               interpolation='nearest', cmap=cm.viridis)\n",
    "    plt.title(prop + ' density')\n",
    "    plt.xlabel(plane[0].upper()+' (kpc)')\n",
    "    plt.ylabel(plane[1].upper()+' (kpc)')\n",
    "    \n",
    "    formatter = mpl.ticker.ScalarFormatter()\n",
    "    fig.colorbar(cs, norm = normal, cmap=cm.viridis, format = formatter)\n",
    "    plt.savefig(prop +'.png',dpi=500)\n",
    "    plt.show()"
   ]
  },
  {
   "cell_type": "markdown",
   "metadata": {},
   "source": [
    "### Total luminosity/mass check:"
   ]
  },
  {
   "cell_type": "code",
   "execution_count": 30,
   "metadata": {},
   "outputs": [
    {
     "name": "stdout",
     "output_type": "stream",
     "text": [
      "Total Projected Luminosity/Mass: 452845100.44462633\n",
      "Total Luminosity/Mass in the cube: 452845100.44463754\n"
     ]
    }
   ],
   "source": [
    "if num != 1:\n",
    "    if num == 0 or (num != 0 and units == 'no'):\n",
    "        print('Total Projected Luminosity/Mass:', sum(lum*(PIXELSIZE**2)))  \n",
    "        print('Total Luminosity/Mass in the cube:', sum(properties[:, num]))\n",
    "    else:\n",
    "        print('Total Projected Luminosity/Mass:', sum(lum*(PIXELSIZE**2) *(1.04e-3 * D**2 * v) / (1+z) ))  \n",
    "        print('Total Luminosity/Mass in the cube:', sum(properties[:, num]))"
   ]
  }
 ],
 "metadata": {
  "kernelspec": {
   "display_name": "Python 3",
   "language": "python",
   "name": "python3"
  },
  "language_info": {
   "codemirror_mode": {
    "name": "ipython",
    "version": 3
   },
   "file_extension": ".py",
   "mimetype": "text/x-python",
   "name": "python",
   "nbconvert_exporter": "python",
   "pygments_lexer": "ipython3",
   "version": "3.7.4"
  }
 },
 "nbformat": 4,
 "nbformat_minor": 2
}
