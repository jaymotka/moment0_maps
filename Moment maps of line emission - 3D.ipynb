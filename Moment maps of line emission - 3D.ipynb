{
 "cells": [
  {
   "cell_type": "markdown",
   "metadata": {},
   "source": [
    "# Moment maps of line emission\n",
    "This is a notebook to project 3D line emission cubes from SIGAME to 2D projections. \n",
    "\n",
    "---"
   ]
  },
  {
   "cell_type": "markdown",
   "metadata": {},
   "source": [
    "### Moment0 map\n",
    "You can read about moment maps in astronomy here: \n",
    "\n",
    "https://www.cfa.harvard.edu/rtdc/CO/MomentMasking/"
   ]
  },
  {
   "cell_type": "code",
   "execution_count": 1,
   "metadata": {},
   "outputs": [],
   "source": [
    "### Import the modules we will need\n",
    "import pandas as pd\n",
    "import numpy as np\n",
    "import matplotlib.pyplot as plt\n",
    "import matplotlib as mpl\n",
    "import matplotlib.cm as cm\n",
    "from scipy.spatial import cKDTree\n",
    "import time\n",
    "fontsize = 15\n",
    "mpl.rcParams['ytick.labelsize'] = fontsize # increase label size in plots\n",
    "mpl.rcParams['xtick.labelsize'] = fontsize # increase label size in plots"
   ]
  },
  {
   "cell_type": "code",
   "execution_count": 2,
   "metadata": {},
   "outputs": [],
   "source": [
    "### First we import the 3D datacube with line emission per cell:\n",
    "datacube      =    pd.read_pickle('z0.00_G154.cell_data')"
   ]
  },
  {
   "cell_type": "code",
   "execution_count": 3,
   "metadata": {},
   "outputs": [
    {
     "data": {
      "text/html": [
       "<div>\n",
       "<style scoped>\n",
       "    .dataframe tbody tr th:only-of-type {\n",
       "        vertical-align: middle;\n",
       "    }\n",
       "\n",
       "    .dataframe tbody tr th {\n",
       "        vertical-align: top;\n",
       "    }\n",
       "\n",
       "    .dataframe thead th {\n",
       "        text-align: right;\n",
       "    }\n",
       "</style>\n",
       "<table border=\"1\" class=\"dataframe\">\n",
       "  <thead>\n",
       "    <tr style=\"text-align: right;\">\n",
       "      <th></th>\n",
       "      <th>x</th>\n",
       "      <th>y</th>\n",
       "      <th>z</th>\n",
       "      <th>n_dust</th>\n",
       "      <th>cell_size</th>\n",
       "      <th>cell_volume</th>\n",
       "      <th>rho</th>\n",
       "      <th>m</th>\n",
       "      <th>mH</th>\n",
       "      <th>nH</th>\n",
       "      <th>...</th>\n",
       "      <th>L_[CI]610</th>\n",
       "      <th>L_[CI]370</th>\n",
       "      <th>L_[OI]145</th>\n",
       "      <th>L_[OI]63</th>\n",
       "      <th>L_[OIII]88</th>\n",
       "      <th>L_[NII]122</th>\n",
       "      <th>L_[NII]205</th>\n",
       "      <th>L_CO(3-2)</th>\n",
       "      <th>L_CO(2-1)</th>\n",
       "      <th>L_CO(1-0)</th>\n",
       "    </tr>\n",
       "  </thead>\n",
       "  <tbody>\n",
       "    <tr>\n",
       "      <td>0</td>\n",
       "      <td>-33.384375</td>\n",
       "      <td>-33.384375</td>\n",
       "      <td>-33.384375</td>\n",
       "      <td>6.842624e-16</td>\n",
       "      <td>4.45125</td>\n",
       "      <td>8.819541e+10</td>\n",
       "      <td>0.000000</td>\n",
       "      <td>0.000000</td>\n",
       "      <td>0.000000</td>\n",
       "      <td>0.000000e+00</td>\n",
       "      <td>...</td>\n",
       "      <td>0.000000e+00</td>\n",
       "      <td>0.000000e+00</td>\n",
       "      <td>0.000000e+00</td>\n",
       "      <td>0.000000e+00</td>\n",
       "      <td>0.000000e+00</td>\n",
       "      <td>0.000000e+00</td>\n",
       "      <td>0.000000e+00</td>\n",
       "      <td>0.000000e+00</td>\n",
       "      <td>0.000000e+00</td>\n",
       "      <td>0.000000e+00</td>\n",
       "    </tr>\n",
       "    <tr>\n",
       "      <td>1</td>\n",
       "      <td>-28.933125</td>\n",
       "      <td>-33.384375</td>\n",
       "      <td>-33.384375</td>\n",
       "      <td>6.379016e-14</td>\n",
       "      <td>4.45125</td>\n",
       "      <td>8.819541e+10</td>\n",
       "      <td>0.374555</td>\n",
       "      <td>33.507207</td>\n",
       "      <td>25.130406</td>\n",
       "      <td>1.136257e-08</td>\n",
       "      <td>...</td>\n",
       "      <td>2.456033e-10</td>\n",
       "      <td>2.851155e-10</td>\n",
       "      <td>5.640611e-11</td>\n",
       "      <td>5.544321e-10</td>\n",
       "      <td>3.305449e-04</td>\n",
       "      <td>7.447467e-07</td>\n",
       "      <td>1.278644e-06</td>\n",
       "      <td>3.790162e-154</td>\n",
       "      <td>2.583049e-154</td>\n",
       "      <td>9.398867e-155</td>\n",
       "    </tr>\n",
       "    <tr>\n",
       "      <td>2</td>\n",
       "      <td>-33.384375</td>\n",
       "      <td>-28.933125</td>\n",
       "      <td>-33.384375</td>\n",
       "      <td>2.575094e-14</td>\n",
       "      <td>4.45125</td>\n",
       "      <td>8.819541e+10</td>\n",
       "      <td>0.100339</td>\n",
       "      <td>8.976203</td>\n",
       "      <td>6.732153</td>\n",
       "      <td>3.043904e-09</td>\n",
       "      <td>...</td>\n",
       "      <td>1.525172e-10</td>\n",
       "      <td>1.792077e-10</td>\n",
       "      <td>3.595951e-11</td>\n",
       "      <td>3.607771e-10</td>\n",
       "      <td>7.106423e-05</td>\n",
       "      <td>2.951656e-07</td>\n",
       "      <td>5.033596e-07</td>\n",
       "      <td>6.652050e-136</td>\n",
       "      <td>4.527179e-136</td>\n",
       "      <td>1.647774e-136</td>\n",
       "    </tr>\n",
       "    <tr>\n",
       "      <td>3</td>\n",
       "      <td>-28.933125</td>\n",
       "      <td>-28.933125</td>\n",
       "      <td>-33.384375</td>\n",
       "      <td>4.109049e-13</td>\n",
       "      <td>4.45125</td>\n",
       "      <td>8.819541e+10</td>\n",
       "      <td>7.383429</td>\n",
       "      <td>660.511777</td>\n",
       "      <td>495.383833</td>\n",
       "      <td>2.239849e-07</td>\n",
       "      <td>...</td>\n",
       "      <td>4.674814e-09</td>\n",
       "      <td>5.431582e-09</td>\n",
       "      <td>1.067432e-09</td>\n",
       "      <td>1.049962e-08</td>\n",
       "      <td>6.166658e-03</td>\n",
       "      <td>1.418166e-05</td>\n",
       "      <td>2.411644e-05</td>\n",
       "      <td>2.091446e-152</td>\n",
       "      <td>1.424733e-152</td>\n",
       "      <td>5.183302e-153</td>\n",
       "    </tr>\n",
       "    <tr>\n",
       "      <td>4</td>\n",
       "      <td>-33.384375</td>\n",
       "      <td>-33.384375</td>\n",
       "      <td>-28.933125</td>\n",
       "      <td>3.234949e-16</td>\n",
       "      <td>4.45125</td>\n",
       "      <td>8.819541e+10</td>\n",
       "      <td>0.000021</td>\n",
       "      <td>0.001909</td>\n",
       "      <td>0.001431</td>\n",
       "      <td>6.472358e-13</td>\n",
       "      <td>...</td>\n",
       "      <td>1.183970e-15</td>\n",
       "      <td>1.450916e-15</td>\n",
       "      <td>8.222523e-17</td>\n",
       "      <td>8.381585e-16</td>\n",
       "      <td>1.840583e-10</td>\n",
       "      <td>1.740007e-12</td>\n",
       "      <td>1.891014e-12</td>\n",
       "      <td>1.786924e-97</td>\n",
       "      <td>1.542492e-97</td>\n",
       "      <td>9.875854e-98</td>\n",
       "    </tr>\n",
       "  </tbody>\n",
       "</table>\n",
       "<p>5 rows × 31 columns</p>\n",
       "</div>"
      ],
      "text/plain": [
       "           x          y          z        n_dust  cell_size   cell_volume  \\\n",
       "0 -33.384375 -33.384375 -33.384375  6.842624e-16    4.45125  8.819541e+10   \n",
       "1 -28.933125 -33.384375 -33.384375  6.379016e-14    4.45125  8.819541e+10   \n",
       "2 -33.384375 -28.933125 -33.384375  2.575094e-14    4.45125  8.819541e+10   \n",
       "3 -28.933125 -28.933125 -33.384375  4.109049e-13    4.45125  8.819541e+10   \n",
       "4 -33.384375 -33.384375 -28.933125  3.234949e-16    4.45125  8.819541e+10   \n",
       "\n",
       "        rho           m          mH            nH  ...     L_[CI]610  \\\n",
       "0  0.000000    0.000000    0.000000  0.000000e+00  ...  0.000000e+00   \n",
       "1  0.374555   33.507207   25.130406  1.136257e-08  ...  2.456033e-10   \n",
       "2  0.100339    8.976203    6.732153  3.043904e-09  ...  1.525172e-10   \n",
       "3  7.383429  660.511777  495.383833  2.239849e-07  ...  4.674814e-09   \n",
       "4  0.000021    0.001909    0.001431  6.472358e-13  ...  1.183970e-15   \n",
       "\n",
       "      L_[CI]370     L_[OI]145      L_[OI]63    L_[OIII]88    L_[NII]122  \\\n",
       "0  0.000000e+00  0.000000e+00  0.000000e+00  0.000000e+00  0.000000e+00   \n",
       "1  2.851155e-10  5.640611e-11  5.544321e-10  3.305449e-04  7.447467e-07   \n",
       "2  1.792077e-10  3.595951e-11  3.607771e-10  7.106423e-05  2.951656e-07   \n",
       "3  5.431582e-09  1.067432e-09  1.049962e-08  6.166658e-03  1.418166e-05   \n",
       "4  1.450916e-15  8.222523e-17  8.381585e-16  1.840583e-10  1.740007e-12   \n",
       "\n",
       "     L_[NII]205      L_CO(3-2)      L_CO(2-1)      L_CO(1-0)  \n",
       "0  0.000000e+00   0.000000e+00   0.000000e+00   0.000000e+00  \n",
       "1  1.278644e-06  3.790162e-154  2.583049e-154  9.398867e-155  \n",
       "2  5.033596e-07  6.652050e-136  4.527179e-136  1.647774e-136  \n",
       "3  2.411644e-05  2.091446e-152  1.424733e-152  5.183302e-153  \n",
       "4  1.891014e-12   1.786924e-97   1.542492e-97   9.875854e-98  \n",
       "\n",
       "[5 rows x 31 columns]"
      ]
     },
     "execution_count": 3,
     "metadata": {},
     "output_type": "execute_result"
    }
   ],
   "source": [
    "### Take a look at the first 5 rows in of the datacube:\n",
    "datacube.head()"
   ]
  },
  {
   "cell_type": "code",
   "execution_count": 4,
   "metadata": {},
   "outputs": [
    {
     "name": "stdout",
     "output_type": "stream",
     "text": [
      "662684 cells found\n"
     ]
    }
   ],
   "source": [
    "### Count number of cells\n",
    "N_models = len(datacube)\n",
    "print('%i cells found' % N_models)"
   ]
  },
  {
   "cell_type": "code",
   "execution_count": 5,
   "metadata": {},
   "outputs": [
    {
     "data": {
      "text/plain": [
       "Index(['x', 'y', 'z', 'n_dust', 'cell_size', 'cell_volume', 'rho', 'm', 'mH',\n",
       "       'nH', 'F_FUV_W_m2', 'F_FUV_Habing', 'E_FUV_ergs_cm3', 'G0',\n",
       "       'SFR_density', 'Z', 'Mach', 'cell_size_lookup', 'mf_1e3', 'mf_1e1',\n",
       "       'L_[CII]158', 'L_[CI]610', 'L_[CI]370', 'L_[OI]145', 'L_[OI]63',\n",
       "       'L_[OIII]88', 'L_[NII]122', 'L_[NII]205', 'L_CO(3-2)', 'L_CO(2-1)',\n",
       "       'L_CO(1-0)'],\n",
       "      dtype='object')"
      ]
     },
     "execution_count": 5,
     "metadata": {},
     "output_type": "execute_result"
    }
   ],
   "source": [
    "datacube.keys()"
   ]
  },
  {
   "cell_type": "markdown",
   "metadata": {},
   "source": [
    "### Here's an explanation of what the relevant columns mean:\n",
    "x,y,z       : center coordinates of each cell \\\n",
    "cell_size   : cell size in kpc \\\n",
    "cell_volume : cell volume in pc^3 \n",
    "\n",
    "In addition there are the line luminosities named L_\\[CI\\]610, L_\\[CI\\]370, L_\\[CII\\]158 etc. All of these are in solar luminosities.\n",
    "\n",
    "If you look at the cell sizes, you'll see that they are grouped in \"levels\" determined by the radiative transfer code to give the best convergence. The smallest cells can actually be very luminous because they tend to contain denser gas which emits more."
   ]
  },
  {
   "cell_type": "code",
   "execution_count": 6,
   "metadata": {},
   "outputs": [],
   "source": [
    "#data:\n",
    "\n",
    "dataset = np.column_stack([datacube.x, datacube.y, datacube.z, datacube.cell_size, datacube['L_[CI]610']])\n",
    "#First three columns of dataset are x,y,z coordinates. Fourth column is cell-sizes. Last column is CI-610 luminosity here.\n",
    "#If you want any other luminosity projected rather than this one, then change the last column accordingly.\n",
    "\n",
    "coordinates = dataset[:,0:3]                         #(An array containing just x,y,z coordinates as columns respectively)\n",
    "cellsize = dataset[:,3]       #kpc                   #(Cell-sizes in kpc)\n",
    "luminosity = dataset[:,4]     #solar_luminosity      #(Aforementioned luminosity in solar luminosity)\n",
    "X = dataset[:, 0]                                    #(x-coordinates)\n",
    "Y = dataset[:, 1]                                    #(y-coordinates)\n",
    "Z = dataset[:, 2]                                    #(z-coordinates)"
   ]
  },
  {
   "cell_type": "code",
   "execution_count": 7,
   "metadata": {},
   "outputs": [
    {
     "data": {
      "text/plain": [
       "(-33.384375, 35.33179688, -34.4971875, 34.4971875, -34.4971875, 34.4971875)"
      ]
     },
     "execution_count": 7,
     "metadata": {},
     "output_type": "execute_result"
    }
   ],
   "source": [
    "#minimum and maximum coordinates:\n",
    "\n",
    "xmin, xmax = min(X), max(X)\n",
    "ymin, ymax = min(Y), max(Y)\n",
    "zmin, zmax = min(Z), max(Z)\n",
    "xminindex, xmaxindex = np.where(X == xmin)[0][0], np.where(X == xmax)[0][0]\n",
    "yminindex, ymaxindex = np.where(Y == ymin)[0][0], np.where(Y == ymax)[0][0]\n",
    "zminindex, zmaxindex = np.where(Z == zmin)[0][0], np.where(Z == zmax)[0][0]\n",
    "xmin, xmax, ymin, ymax, zmin, zmax"
   ]
  },
  {
   "cell_type": "code",
   "execution_count": 8,
   "metadata": {},
   "outputs": [],
   "source": [
    "#luminosity_density in cell:\n",
    "cellvolume = cellsize * cellsize * cellsize  #kpc^3\n",
    "celldensity =  luminosity / cellvolume           #solar_luminosity / kpc^3"
   ]
  },
  {
   "cell_type": "code",
   "execution_count": 9,
   "metadata": {},
   "outputs": [],
   "source": [
    "#cell setups: \n",
    "\n",
    "cellstartx = X - (cellsize / 2)\n",
    "cellstarty = Y - (cellsize / 2)\n",
    "cellstartz = Z - (cellsize / 2)\n",
    "cellendx = cellstartx + cellsize\n",
    "cellendy = cellstarty + cellsize\n",
    "cellendz = cellstartz + cellsize\n",
    "\n",
    "#Arrays containing index and x,y,z-coordinate details of each cell:\n",
    "cellx = np.column_stack([datacube.index, cellstartx, cellendx])\n",
    "celly = np.column_stack([datacube.index, cellstarty, cellendy])\n",
    "cellz = np.column_stack([datacube.index, cellstartz, cellendz]) "
   ]
  },
  {
   "cell_type": "markdown",
   "metadata": {},
   "source": [
    "Let's start by setting a pixel volume of 1 kpc^3. You could start by having the sightline go in the x-direction for instance."
   ]
  },
  {
   "cell_type": "code",
   "execution_count": 10,
   "metadata": {},
   "outputs": [],
   "source": [
    "#size of the pixel-cube:\n",
    "PIXELSIZE = 1 #kpc in 1D"
   ]
  },
  {
   "cell_type": "markdown",
   "metadata": {},
   "source": [
    "### KD-Tree:\n",
    "\n",
    "The tool used is scipy's KD-Tree function which finds all k nearest neighbors to each point that you are interested in:\n",
    "\n",
    "https://docs.scipy.org/doc/scipy/reference/generated/scipy.spatial.cKDTree.html\n",
    "\n",
    "(If we want perfect precision then we should put k to be: maxknn = int(PIXELSIZE / min(cellvolume). This number tells us the maximum number of cells that can overlap with a pixel, so finding all of these nearest neighbour would assure precision, however it increses the processing time exponentially, thus I would not recommend this unless you have excess to high-processing power.)"
   ]
  },
  {
   "cell_type": "code",
   "execution_count": 11,
   "metadata": {},
   "outputs": [],
   "source": [
    "tree = cKDTree(np.c_[X.ravel(), Y.ravel(), Z.ravel()])\n",
    "maxknn = int(PIXELSIZE/min(cellvolume)) + 1"
   ]
  },
  {
   "cell_type": "markdown",
   "metadata": {},
   "source": [
    "### Algorithm:\n",
    "\n",
    "1. We will first apply KD-Tree to centre-coordinates of the pixel. (k=100 finds only 100 nearest neighbours here)\n",
    "2. Loop through these k nearest neighbours of the given pixel.\n",
    "3. In the loop, to find overlapping cells, we use the if statement stated in the code.\n",
    "   If statement: in 1 direction (let's say x), min from the ending edge of the cell or pixel is subtracted from the max of the\n",
    "   startinging edge of the cell or pixel. If this substraction is lesser than 0 then the cell and pixel is overlapping.\n",
    "4. In the if statement, now that the overlapping is assured, we find the edge lengths of the overlapping cuboid.\n",
    "   This is being done by subtracting coordinates of max from the starting edge of the cell or pixel from the min of the ending\n",
    "   edge of the cell or pixel. \n",
    "5. Now we find the volume of the overlapping cuboid and multiply it with the luminosity-density of the cell.\n",
    "6. By repeating the loop through every cell, we add up all the luminosity due to overlap. "
   ]
  },
  {
   "cell_type": "code",
   "execution_count": 12,
   "metadata": {},
   "outputs": [],
   "source": [
    "#finding the total luminosity of a single pixel:\n",
    "\n",
    "def pixel_luminosity(X, Y, Z, tree, cellx, celly, cellz, pixel, celldensity, maxknn):\n",
    "    '''\n",
    "    This function returns the total luminosity of the pixel using the algorithm shown above.\n",
    "    '''\n",
    "    \n",
    "    #pixel-coordinates:\n",
    "    pixelstartx = pixel[0]\n",
    "    pixelendx = pixel[1]\n",
    "    pixelstarty = pixel[2]\n",
    "    pixelendy = pixel[3]\n",
    "    pixelstartz = pixel[4]\n",
    "    pixelendz = pixel[5]\n",
    "    \n",
    "    pixelcentrex = pixelstartx + (PIXELSIZE / 2)\n",
    "    pixelcentrey = pixelstarty + (PIXELSIZE / 2)\n",
    "    pixelcentrez = pixelstartz + (PIXELSIZE / 2)\n",
    "    \n",
    "    #1. Query method of KD-Tree:\n",
    "    dd, ii = tree.query([[pixelcentrex, pixelcentrey, pixelcentrez]], k=maxknn)\n",
    "    \n",
    "    #Appending coordinate values of nearest cells gained by KD-Tree:\n",
    "    x = []\n",
    "    y = []\n",
    "    z = []\n",
    "    for index in ii[0]:\n",
    "        x.append(cellx[index])\n",
    "        y.append(celly[index])\n",
    "        z.append(cellz[index])\n",
    "        \n",
    "    #2. For loop to go over each cell:\n",
    "    pixelluminosity = 0\n",
    "    for i in range(len(x)):\n",
    "        \n",
    "        #3. if statement to find whether the cell overlaps the pixel or not:\n",
    "        if (max(pixelstartx, x[i][1]) - min(pixelendx, x[i][2]) < 0) and (max(pixelstarty, y[i][1]) - min(pixelendy, y[i][2]) < 0) and (max(pixelstartz, z[i][1]) - min(pixelendz, z[i][2]) < 0):\n",
    "            \n",
    "            #4. Finding edge lengths of overlapping cuboid:\n",
    "            edgex = min(pixelendx, x[i][2])-max(pixelstartx,x[i][1])\n",
    "            edgey = min(pixelendy, y[i][2])-max(pixelstarty,y[i][1])\n",
    "            edgez = min(pixelendz, z[i][2])-max(pixelstartz,z[i][1])\n",
    "        \n",
    "            #5. Finding overlapping volume and luminosity due to that overlpping cell:\n",
    "            crossvolume = edgex * edgey * edgez\n",
    "            luminosity = celldensity[int(x[i][0])] * crossvolume\n",
    "            \n",
    "            #6. Adding up the luminosity due to each cell:\n",
    "            pixelluminosity += luminosity\n",
    "    \n",
    "    return pixelluminosity"
   ]
  },
  {
   "cell_type": "markdown",
   "metadata": {},
   "source": [
    "Now we run three while loops inside each other to sum up luminosity of every pixel in a line of sight. Here, we are adding up the luminosities in x-direction. Thus, our projection would be in yz-plane. "
   ]
  },
  {
   "cell_type": "code",
   "execution_count": 13,
   "metadata": {},
   "outputs": [],
   "source": [
    "#while loops:\n",
    "\n",
    "start = time.time()\n",
    "\n",
    "#While loop to go through z-direction:\n",
    "index = 0\n",
    "momentmapdata = []\n",
    "pixelstartz = zmin - (cellsize[zminindex] / 2)\n",
    "while pixelstartz <= zmax - (cellsize[zmaxindex] / 2): \n",
    "    pixelendz = pixelstartz + PIXELSIZE\n",
    "    \n",
    "    #While loop to go through y-direction:\n",
    "    pixelstarty = ymin - (cellsize[yminindex] / 2)\n",
    "    while pixelstarty <= ymax + (cellsize[ymaxindex] / 2):\n",
    "        pixelendy = pixelstarty + PIXELSIZE\n",
    "        \n",
    "        #While loop to go through x-direction:\n",
    "        lineluminosity = 0\n",
    "        pixelstartx = xmin - (cellsize[xminindex] / 2)\n",
    "        while pixelstartx <= xmax + (cellsize[xmaxindex] / 2):\n",
    "            pixelendx = pixelstartx + PIXELSIZE\n",
    "            \n",
    "            #Pixel coordinates:\n",
    "            pixel = [pixelstartx, pixelendx, pixelstarty, pixelendy, pixelstartz, pixelendz]\n",
    "            \n",
    "            #Calling pixel_luminosity function for the particular pixel: \n",
    "            pixelluminosity = pixel_luminosity(X, Y, Z, tree, cellx, celly, cellz, pixel, celldensity, maxknn)\n",
    "            \n",
    "            #Adding up luminosities of pixels in the line of sight:\n",
    "            lineluminosity += pixelluminosity\n",
    "            \n",
    "            pixelstartx += PIXELSIZE\n",
    "        \n",
    "        #central yz-coordinates of each pixel-lines:\n",
    "        pixel_y = pixelstarty + (PIXELSIZE/2)\n",
    "        pixel_z = pixelstartz + (PIXELSIZE/2)\n",
    "        \n",
    "        #Appending data of each pixelline for 2D projection:\n",
    "        momentmapdata.append([int(index), pixel_y, pixel_z, lineluminosity])\n",
    "        \n",
    "        index += 1\n",
    "        pixelstarty += PIXELSIZE\n",
    "    \n",
    "    pixelstartz += PIXELSIZE\n",
    "    \n",
    "end = time.time()"
   ]
  },
  {
   "cell_type": "code",
   "execution_count": 14,
   "metadata": {},
   "outputs": [
    {
     "name": "stdout",
     "output_type": "stream",
     "text": [
      "Time: 4908.2256 seconds\n"
     ]
    }
   ],
   "source": [
    "#Time taken to run the loops: \n",
    "print('Time:', round(float(end-start), 4), 'seconds')"
   ]
  },
  {
   "cell_type": "code",
   "execution_count": 15,
   "metadata": {},
   "outputs": [
    {
     "data": {
      "text/plain": [
       "array([[ 0.00000000e+00, -3.51100000e+01, -3.51100000e+01,\n",
       "         2.20247926e-09],\n",
       "       [ 1.00000000e+00, -3.41100000e+01, -3.51100000e+01,\n",
       "         2.20247926e-09],\n",
       "       [ 2.00000000e+00, -3.31100000e+01, -3.51100000e+01,\n",
       "         2.20247926e-09],\n",
       "       ...,\n",
       "       [ 4.96500000e+03,  3.38900000e+01,  3.28900000e+01,\n",
       "         7.51155999e-10],\n",
       "       [ 4.96600000e+03,  3.48900000e+01,  3.28900000e+01,\n",
       "         7.51155999e-10],\n",
       "       [ 4.96700000e+03,  3.58900000e+01,  3.28900000e+01,\n",
       "         1.65254320e-10]])"
      ]
     },
     "execution_count": 15,
     "metadata": {},
     "output_type": "execute_result"
    }
   ],
   "source": [
    "#Data for momentmap:\n",
    "momentmap = np.array(momentmapdata)\n",
    "momentmap"
   ]
  },
  {
   "cell_type": "code",
   "execution_count": 16,
   "metadata": {},
   "outputs": [
    {
     "data": {
      "text/plain": [
       "(4968, 4)"
      ]
     },
     "execution_count": 16,
     "metadata": {},
     "output_type": "execute_result"
    }
   ],
   "source": [
    "momentmap.shape"
   ]
  },
  {
   "cell_type": "markdown",
   "metadata": {},
   "source": [
    "### Momentmap Data:\n",
    "\n",
    "Fisrt column of the array is index. Second and third colums are y and z coordinates, respectively. The last column is the added up luminosity in solar luminosity. "
   ]
  },
  {
   "cell_type": "markdown",
   "metadata": {},
   "source": [
    "### Plots:"
   ]
  },
  {
   "cell_type": "code",
   "execution_count": 22,
   "metadata": {},
   "outputs": [
    {
     "data": {
      "image/png": "[encoded data removed]",
      "text/plain": [
       "<Figure size 432x288 with 1 Axes>"
      ]
     },
     "metadata": {
      "needs_background": "light"
     },
     "output_type": "display_data"
    }
   ],
   "source": [
    "#Deviding y-z coordinates in 72x69 (yxz) pixel: \n",
    "y,z,lum = momentmap[:, 1], momentmap[:, 2], momentmap[:, 3]\n",
    "nrows, ncols = 69, 72\n",
    "grid = lum.reshape((nrows, ncols))\n",
    "\n",
    "plt.imshow(grid, extent=(y.min(), y.max(), z.max(), z.min()),\n",
    "           interpolation='nearest', cmap=cm.Oranges)\n",
    "plt.show()"
   ]
  },
  {
   "cell_type": "code",
   "execution_count": 23,
   "metadata": {},
   "outputs": [
    {
     "data": {
      "text/plain": [
       "16393.245453841108"
      ]
     },
     "execution_count": 23,
     "metadata": {},
     "output_type": "execute_result"
    }
   ],
   "source": [
    "max(lum)"
   ]
  },
  {
   "cell_type": "code",
   "execution_count": 24,
   "metadata": {},
   "outputs": [
    {
     "data": {
      "text/plain": [
       "1848660.2435299403"
      ]
     },
     "execution_count": 24,
     "metadata": {},
     "output_type": "execute_result"
    }
   ],
   "source": [
    "add = 0\n",
    "for x in lum:\n",
    "    add += x\n",
    "add"
   ]
  },
  {
   "cell_type": "code",
   "execution_count": 25,
   "metadata": {},
   "outputs": [
    {
     "data": {
      "text/plain": [
       "1850304.4692148971"
      ]
     },
     "execution_count": 25,
     "metadata": {},
     "output_type": "execute_result"
    }
   ],
   "source": [
    "summ = 0 \n",
    "for x in luminosity:\n",
    "    summ += x\n",
    "summ"
   ]
  },
  {
   "cell_type": "code",
   "execution_count": null,
   "metadata": {},
   "outputs": [],
   "source": []
  }
 ],
 "metadata": {
  "kernelspec": {
   "display_name": "Python 3",
   "language": "python",
   "name": "python3"
  },
  "language_info": {
   "codemirror_mode": {
    "name": "ipython",
    "version": 3
   },
   "file_extension": ".py",
   "mimetype": "text/x-python",
   "name": "python",
   "nbconvert_exporter": "python",
   "pygments_lexer": "ipython3",
   "version": "3.7.4"
  }
 },
 "nbformat": 4,
 "nbformat_minor": 2
}
